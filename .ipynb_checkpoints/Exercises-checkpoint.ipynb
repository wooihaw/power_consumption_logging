{
 "cells": [
  {
   "cell_type": "markdown",
   "id": "74ab0700",
   "metadata": {},
   "source": [
    "# Python Programming Exercises"
   ]
  },
  {
   "cell_type": "markdown",
   "id": "78c38836",
   "metadata": {},
   "source": [
    "### Exercise 1\n",
    "Write a program to solve a classic puzzle: There are 35 heads and 94 legs among the chickens and rabbits in a farm. How many rabbits and how many chickens do we have? Hint: Use for loop to iterate all possible solutions"
   ]
  },
  {
   "cell_type": "code",
   "execution_count": null,
   "id": "b8ecc983",
   "metadata": {},
   "outputs": [],
   "source": []
  },
  {
   "cell_type": "markdown",
   "id": "00d5ed6e",
   "metadata": {},
   "source": [
    "### Exercise 2\n",
    "In this exercise, the task is to read a set of temperature data (the monthly high temperatures at Heathrow Airport for Jan 1948 through Dec 2016) from a file and then find some basic information: the highest and lowest temperatures, the mean (average) temperature, and the median temperature (the temperature in the middle if all the temperatures are sorted).\n",
    "\n",
    "The temperature data is in the file “Heathrow.txt”. You should find the highest and lowest temperature, the average, and the median."
   ]
  },
  {
   "cell_type": "code",
   "execution_count": null,
   "id": "834aaae2",
   "metadata": {},
   "outputs": [],
   "source": []
  },
  {
   "cell_type": "markdown",
   "id": "cfcc5c07",
   "metadata": {},
   "source": [
    "### Exercise 3\n",
    "For the problem in Exercise 1, use NumPy by applying linear algebra to find the solution."
   ]
  },
  {
   "cell_type": "code",
   "execution_count": null,
   "id": "5b59253e",
   "metadata": {},
   "outputs": [],
   "source": []
  },
  {
   "cell_type": "markdown",
   "id": "cddd0ae9",
   "metadata": {},
   "source": [
    "### Exercise 4\n",
    "Solve Exercise 2 by using Pandas. In addition, find out the coldest month and the hottest month between 1948 and 2016. Plot the mean temperature for each month."
   ]
  },
  {
   "cell_type": "code",
   "execution_count": null,
   "id": "3311ec3b",
   "metadata": {},
   "outputs": [],
   "source": []
  },
  {
   "cell_type": "markdown",
   "id": "f2ec789a",
   "metadata": {},
   "source": [
    "### Exercise 5\n",
    "Plot two cycles a sinusoidal voltage waveform with an amplitude of 2 and frequency of 50Hz and a DC offset of 5V."
   ]
  },
  {
   "cell_type": "code",
   "execution_count": null,
   "id": "51baf1ae",
   "metadata": {},
   "outputs": [],
   "source": []
  },
  {
   "cell_type": "markdown",
   "id": "0bcccd92",
   "metadata": {},
   "source": [
    "### Exercise 6\n",
    "A voltage waveform has been downloaded from an oscilloscope by using PyVISA. The waveform is stored in the CSV file format and the file can be accessed as 'data/waveform_data.csv'. Load and plot the waveform from the CSV file."
   ]
  },
  {
   "cell_type": "code",
   "execution_count": null,
   "id": "950e5d9b",
   "metadata": {},
   "outputs": [],
   "source": []
  },
  {
   "cell_type": "markdown",
   "id": "6fbe87d8",
   "metadata": {},
   "source": [
    "### Exercise 7\n",
    "Two voltage waveforms have been downloaded from an oscilloscope and stored in the CSV file format, where Channel 1 is connected to a current probe with the setting of 100mV/A, while Channel 2 is connected to a normal probe that measures the voltage. The file can be accessed as 'data/scope_0.csv'. Load the CSV file to plot the waveforms."
   ]
  },
  {
   "cell_type": "code",
   "execution_count": null,
   "id": "c89e44db",
   "metadata": {},
   "outputs": [],
   "source": []
  }
 ],
 "metadata": {
  "kernelspec": {
   "display_name": "Python 3",
   "language": "python",
   "name": "python3"
  },
  "language_info": {
   "codemirror_mode": {
    "name": "ipython",
    "version": 3
   },
   "file_extension": ".py",
   "mimetype": "text/x-python",
   "name": "python",
   "nbconvert_exporter": "python",
   "pygments_lexer": "ipython3",
   "version": "3.9.4"
  }
 },
 "nbformat": 4,
 "nbformat_minor": 5
}
